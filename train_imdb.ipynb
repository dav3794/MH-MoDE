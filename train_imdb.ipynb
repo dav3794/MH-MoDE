{
 "cells": [
  {
   "cell_type": "code",
   "execution_count": 1,
   "metadata": {},
   "outputs": [],
   "source": [
    "import torch\n",
    "import random\n",
    "import numpy as np\n",
    "\n",
    "from datasets import load_dataset\n",
    "from tokenizers import ByteLevelBPETokenizer\n",
    "from tokenizers.processors import BertProcessing\n",
    "from transformers import PretrainedConfig, Trainer, TrainingArguments\n",
    "\n",
    "from modules import TransformerClassifier, MLP, MoE, MoDE\n",
    "\n",
    "\n",
    "def seed_all(seed: int = 0) -> None:\n",
    "    random.seed(seed)\n",
    "    np.random.seed(seed)\n",
    "    torch.manual_seed(seed)\n",
    "    if torch.cuda.is_available():\n",
    "        torch.cuda.manual_seed_all(seed)\n",
    "\n",
    "\n",
    "def get_gpu_device() -> torch.device:\n",
    "    if torch.cuda.is_available():\n",
    "        device_str = \"cuda\"     # GPU\n",
    "    elif hasattr(torch.backends, \"mps\") and torch.backends.mps.is_available():\n",
    "        device_str = \"mps\"      # Apple silicon\n",
    "    else:\n",
    "        print(\"Warning: No GPU found, using CPU instead.\")\n",
    "        device_str = \"cpu\"      # CPU\n",
    "    return torch.device(device_str)\n",
    "\n",
    "seed_all()"
   ]
  },
  {
   "cell_type": "markdown",
   "metadata": {},
   "source": [
    "## Configs"
   ]
  },
  {
   "cell_type": "code",
   "execution_count": 2,
   "metadata": {},
   "outputs": [],
   "source": [
    "base_config = dict(\n",
    "    vocab_size=5000,\n",
    "    max_position_embeddings=256,\n",
    "    num_attention_heads=8,\n",
    "    num_hidden_layers=4,\n",
    "    hidden_dropout_prob=0.1,\n",
    "    hidden_size=128,\n",
    "    intermediate_size=512,\n",
    "    num_labels=2,\n",
    "    bias=True\n",
    ")\n",
    "\n",
    "standard_config = PretrainedConfig(\n",
    "    **base_config,\n",
    "    ff_cls=MLP,\n",
    "    mh_moe=False\n",
    ")\n",
    "\n",
    "moe_config = PretrainedConfig(\n",
    "    **base_config,\n",
    "    num_experts=4,\n",
    "    capacity_factor=2.0,\n",
    "    num_experts_per_token=1,\n",
    "    ff_cls=MoE,\n",
    "    mh_moe=False\n",
    ")\n",
    "\n",
    "mode_config = PretrainedConfig(\n",
    "    **base_config,\n",
    "    num_experts=5, # add 1 no-op expert\n",
    "    capacity_factor=2.0,\n",
    "    num_experts_per_token=1,\n",
    "    ff_cls=MoDE,\n",
    "    mh_moe=False\n",
    ")\n",
    "\n",
    "mh_moe_config = PretrainedConfig(\n",
    "    **base_config,\n",
    "    num_experts=4,\n",
    "    capacity_factor=2.0,\n",
    "    num_experts_per_token=1,\n",
    "    ff_cls=MoE,\n",
    "    mh_moe=True\n",
    ")\n",
    "\n",
    "mh_mode_config = PretrainedConfig(\n",
    "    **base_config,\n",
    "    num_experts=5, # add 1 no-op expert\n",
    "    capacity_factor=2.0,\n",
    "    num_experts_per_token=1,\n",
    "    ff_cls=MoDE,\n",
    "    mh_moe=True\n",
    ")"
   ]
  },
  {
   "cell_type": "markdown",
   "metadata": {},
   "source": [
    "## Tokenizer Training"
   ]
  },
  {
   "cell_type": "code",
   "execution_count": 3,
   "metadata": {},
   "outputs": [
    {
     "name": "stdout",
     "output_type": "stream",
     "text": [
      "\n",
      "\n",
      "\n"
     ]
    }
   ],
   "source": [
    "dataset = load_dataset('imdb')\n",
    "\n",
    "tokenizer = ByteLevelBPETokenizer()\n",
    "tokenizer.train_from_iterator(\n",
    "    dataset['train']['text'],\n",
    "    vocab_size=base_config['vocab_size'],\n",
    "    special_tokens=[\"<s>\", \"</s>\", \"<pad>\"],\n",
    "    min_frequency=2\n",
    ")\n",
    "tokenizer.post_processor = BertProcessing(\n",
    "    (\"</s>\", tokenizer.token_to_id(\"</s>\")),\n",
    "    (\"<s>\", tokenizer.token_to_id(\"<s>\")),\n",
    ")\n",
    "\n",
    "tokenizer.enable_truncation(max_length=base_config['max_position_embeddings'])\n",
    "tokenizer.enable_padding(pad_id=tokenizer.token_to_id(\"<pad>\"), pad_token=\"<pad>\", length=base_config['max_position_embeddings'])\n",
    "tokenizer.model_max_length = base_config['max_position_embeddings']\n",
    "tokenizer.pad_token = \"<pad>\"\n",
    "\n",
    "\n",
    "def tokenize(row):\n",
    "    return {\n",
    "        'input_ids': tokenizer.encode(row['text']).ids,\n",
    "    }\n",
    "\n",
    "tokenized_dataset = dataset.map(tokenize)"
   ]
  },
  {
   "cell_type": "markdown",
   "metadata": {},
   "source": [
    "## Train Vanilla Transformer"
   ]
  },
  {
   "cell_type": "code",
   "execution_count": 5,
   "metadata": {},
   "outputs": [
    {
     "data": {
      "application/vnd.jupyter.widget-view+json": {
       "model_id": "ad4e51bb1eb742899acf45aea73d49cc",
       "version_major": 2,
       "version_minor": 0
      },
      "text/plain": [
       "  0%|          | 0/9375 [00:00<?, ?it/s]"
      ]
     },
     "metadata": {},
     "output_type": "display_data"
    },
    {
     "name": "stdout",
     "output_type": "stream",
     "text": [
      "{'loss': 0.7554, 'grad_norm': 11.673501014709473, 'learning_rate': 5e-05, 'epoch': 0.16}\n",
      "{'loss': 0.7101, 'grad_norm': 9.985132217407227, 'learning_rate': 4.71830985915493e-05, 'epoch': 0.32}\n",
      "{'loss': 0.6871, 'grad_norm': 3.6002533435821533, 'learning_rate': 4.436619718309859e-05, 'epoch': 0.48}\n",
      "{'loss': 0.6654, 'grad_norm': 4.413424015045166, 'learning_rate': 4.154929577464789e-05, 'epoch': 0.64}\n",
      "{'loss': 0.6496, 'grad_norm': 7.207448482513428, 'learning_rate': 3.8732394366197184e-05, 'epoch': 0.8}\n",
      "{'loss': 0.643, 'grad_norm': 5.3875555992126465, 'learning_rate': 3.5915492957746486e-05, 'epoch': 0.96}\n",
      "{'loss': 0.6326, 'grad_norm': 10.878851890563965, 'learning_rate': 3.3098591549295775e-05, 'epoch': 1.12}\n",
      "{'loss': 0.6077, 'grad_norm': 6.362067222595215, 'learning_rate': 3.028169014084507e-05, 'epoch': 1.28}\n",
      "{'loss': 0.5738, 'grad_norm': 5.495521068572998, 'learning_rate': 2.746478873239437e-05, 'epoch': 1.44}\n",
      "{'loss': 0.591, 'grad_norm': 2.6917409896850586, 'learning_rate': 2.4647887323943664e-05, 'epoch': 1.6}\n",
      "{'loss': 0.5744, 'grad_norm': 4.495454788208008, 'learning_rate': 2.1830985915492956e-05, 'epoch': 1.76}\n",
      "{'loss': 0.5821, 'grad_norm': 19.018871307373047, 'learning_rate': 1.9014084507042255e-05, 'epoch': 1.92}\n",
      "{'loss': 0.5731, 'grad_norm': 6.01765775680542, 'learning_rate': 1.619718309859155e-05, 'epoch': 2.08}\n",
      "{'loss': 0.5685, 'grad_norm': 4.583906173706055, 'learning_rate': 1.3380281690140845e-05, 'epoch': 2.24}\n",
      "{'loss': 0.5695, 'grad_norm': 6.295204162597656, 'learning_rate': 1.056338028169014e-05, 'epoch': 2.4}\n",
      "{'loss': 0.5506, 'grad_norm': 13.850769996643066, 'learning_rate': 7.746478873239436e-06, 'epoch': 2.56}\n",
      "{'loss': 0.5748, 'grad_norm': 6.112377166748047, 'learning_rate': 4.929577464788732e-06, 'epoch': 2.72}\n",
      "{'loss': 0.5376, 'grad_norm': 11.661959648132324, 'learning_rate': 2.112676056338028e-06, 'epoch': 2.88}\n",
      "{'train_runtime': 478.3705, 'train_samples_per_second': 156.782, 'train_steps_per_second': 19.598, 'train_loss': 0.6119569759114584, 'epoch': 3.0}\n"
     ]
    },
    {
     "data": {
      "application/vnd.jupyter.widget-view+json": {
       "model_id": "714f0997023b42abb0443a437d708451",
       "version_major": 2,
       "version_minor": 0
      },
      "text/plain": [
       "  0%|          | 0/3125 [00:00<?, ?it/s]"
      ]
     },
     "metadata": {},
     "output_type": "display_data"
    },
    {
     "data": {
      "text/plain": [
       "{'eval_loss': 0.5624286532402039,\n",
       " 'eval_runtime': 53.9324,\n",
       " 'eval_samples_per_second': 463.543,\n",
       " 'eval_steps_per_second': 57.943,\n",
       " 'epoch': 3.0}"
      ]
     },
     "execution_count": 5,
     "metadata": {},
     "output_type": "execute_result"
    }
   ],
   "source": [
    "training_args = TrainingArguments(\n",
    "    output_dir='./results_vanilla',\n",
    "    num_train_epochs=3,\n",
    "    per_device_train_batch_size=8,\n",
    "    per_device_eval_batch_size=8,\n",
    "    warmup_steps=500,\n",
    "    weight_decay=0.001,\n",
    "    logging_dir='./logs',\n",
    ")\n",
    "\n",
    "model = TransformerClassifier(standard_config)\n",
    "trainer = Trainer(\n",
    "    model=model,\n",
    "    args=training_args,\n",
    "    train_dataset=tokenized_dataset['train'],\n",
    "    eval_dataset=tokenized_dataset['test'],\n",
    ")\n",
    "\n",
    "trainer.train()\n",
    "trainer.evaluate()"
   ]
  },
  {
   "cell_type": "markdown",
   "metadata": {},
   "source": [
    "## Train MoE"
   ]
  },
  {
   "cell_type": "code",
   "execution_count": 4,
   "metadata": {},
   "outputs": [
    {
     "data": {
      "application/vnd.jupyter.widget-view+json": {
       "model_id": "8f2c22bd9d7945ee92940cdcbf69fe0f",
       "version_major": 2,
       "version_minor": 0
      },
      "text/plain": [
       "  0%|          | 0/9375 [00:00<?, ?it/s]"
      ]
     },
     "metadata": {},
     "output_type": "display_data"
    },
    {
     "name": "stdout",
     "output_type": "stream",
     "text": [
      "{'loss': 0.8296, 'grad_norm': 5.203965663909912, 'learning_rate': 5e-05, 'epoch': 0.16}\n",
      "{'loss': 0.6789, 'grad_norm': 10.183759689331055, 'learning_rate': 4.71830985915493e-05, 'epoch': 0.32}\n",
      "{'loss': 0.6717, 'grad_norm': 4.524587631225586, 'learning_rate': 4.436619718309859e-05, 'epoch': 0.48}\n",
      "{'loss': 0.653, 'grad_norm': 6.4882378578186035, 'learning_rate': 4.154929577464789e-05, 'epoch': 0.64}\n",
      "{'loss': 0.6514, 'grad_norm': 7.845848083496094, 'learning_rate': 3.8732394366197184e-05, 'epoch': 0.8}\n",
      "{'loss': 0.6504, 'grad_norm': 6.5309247970581055, 'learning_rate': 3.5915492957746486e-05, 'epoch': 0.96}\n",
      "{'loss': 0.6398, 'grad_norm': 6.760333061218262, 'learning_rate': 3.3098591549295775e-05, 'epoch': 1.12}\n",
      "{'loss': 0.6171, 'grad_norm': 8.21616268157959, 'learning_rate': 3.028169014084507e-05, 'epoch': 1.28}\n",
      "{'loss': 0.5931, 'grad_norm': 5.277225494384766, 'learning_rate': 2.746478873239437e-05, 'epoch': 1.44}\n",
      "{'loss': 0.6122, 'grad_norm': 5.520471096038818, 'learning_rate': 2.4647887323943664e-05, 'epoch': 1.6}\n",
      "{'loss': 0.5971, 'grad_norm': 5.776269912719727, 'learning_rate': 2.1830985915492956e-05, 'epoch': 1.76}\n",
      "{'loss': 0.6053, 'grad_norm': 18.3858642578125, 'learning_rate': 1.9014084507042255e-05, 'epoch': 1.92}\n",
      "{'loss': 0.5929, 'grad_norm': 7.801865100860596, 'learning_rate': 1.619718309859155e-05, 'epoch': 2.08}\n",
      "{'loss': 0.5874, 'grad_norm': 9.941091537475586, 'learning_rate': 1.3380281690140845e-05, 'epoch': 2.24}\n",
      "{'loss': 0.5943, 'grad_norm': 6.9373345375061035, 'learning_rate': 1.056338028169014e-05, 'epoch': 2.4}\n",
      "{'loss': 0.5758, 'grad_norm': 17.494754791259766, 'learning_rate': 7.746478873239436e-06, 'epoch': 2.56}\n",
      "{'loss': 0.5942, 'grad_norm': 6.539267063140869, 'learning_rate': 4.929577464788732e-06, 'epoch': 2.72}\n",
      "{'loss': 0.5556, 'grad_norm': 7.109912395477295, 'learning_rate': 2.112676056338028e-06, 'epoch': 2.88}\n",
      "{'train_runtime': 588.7348, 'train_samples_per_second': 127.392, 'train_steps_per_second': 15.924, 'train_loss': 0.6258801253255208, 'epoch': 3.0}\n"
     ]
    },
    {
     "data": {
      "application/vnd.jupyter.widget-view+json": {
       "model_id": "9baf49c6a7f248f0827515015342f38d",
       "version_major": 2,
       "version_minor": 0
      },
      "text/plain": [
       "  0%|          | 0/3125 [00:00<?, ?it/s]"
      ]
     },
     "metadata": {},
     "output_type": "display_data"
    },
    {
     "data": {
      "text/plain": [
       "{'eval_loss': 0.5792981386184692,\n",
       " 'eval_runtime': 72.2348,\n",
       " 'eval_samples_per_second': 346.094,\n",
       " 'eval_steps_per_second': 43.262,\n",
       " 'epoch': 3.0}"
      ]
     },
     "execution_count": 4,
     "metadata": {},
     "output_type": "execute_result"
    }
   ],
   "source": [
    "training_args = TrainingArguments(\n",
    "    output_dir='./results_moe',\n",
    "    num_train_epochs=3,\n",
    "    per_device_train_batch_size=8,\n",
    "    per_device_eval_batch_size=8,\n",
    "    warmup_steps=500,\n",
    "    weight_decay=0.001,\n",
    "    logging_dir='./logs',\n",
    ")\n",
    "\n",
    "model_moe = TransformerClassifier(moe_config)\n",
    "trainer = Trainer(\n",
    "    model=model_moe,\n",
    "    args=training_args,\n",
    "    train_dataset=tokenized_dataset['train'],\n",
    "    eval_dataset=tokenized_dataset['test'],\n",
    ")\n",
    "\n",
    "trainer.train()\n",
    "trainer.evaluate()"
   ]
  },
  {
   "cell_type": "markdown",
   "metadata": {},
   "source": [
    "## Train MoDE"
   ]
  },
  {
   "cell_type": "code",
   "execution_count": 4,
   "metadata": {},
   "outputs": [
    {
     "data": {
      "application/vnd.jupyter.widget-view+json": {
       "model_id": "c2a66eae82204824b66e8ab5fccc1a0a",
       "version_major": 2,
       "version_minor": 0
      },
      "text/plain": [
       "  0%|          | 0/9375 [00:00<?, ?it/s]"
      ]
     },
     "metadata": {},
     "output_type": "display_data"
    },
    {
     "name": "stdout",
     "output_type": "stream",
     "text": [
      "{'loss': 0.8452, 'grad_norm': 4.549673080444336, 'learning_rate': 5e-05, 'epoch': 0.16}\n",
      "{'loss': 0.6961, 'grad_norm': 12.047969818115234, 'learning_rate': 4.71830985915493e-05, 'epoch': 0.32}\n",
      "{'loss': 0.6796, 'grad_norm': 8.10474681854248, 'learning_rate': 4.436619718309859e-05, 'epoch': 0.48}\n",
      "{'loss': 0.6528, 'grad_norm': 7.605819225311279, 'learning_rate': 4.154929577464789e-05, 'epoch': 0.64}\n",
      "{'loss': 0.6544, 'grad_norm': 9.052936553955078, 'learning_rate': 3.8732394366197184e-05, 'epoch': 0.8}\n",
      "{'loss': 0.6494, 'grad_norm': 8.182595252990723, 'learning_rate': 3.5915492957746486e-05, 'epoch': 0.96}\n",
      "{'loss': 0.6406, 'grad_norm': 9.334197044372559, 'learning_rate': 3.3098591549295775e-05, 'epoch': 1.12}\n",
      "{'loss': 0.6223, 'grad_norm': 8.65141487121582, 'learning_rate': 3.028169014084507e-05, 'epoch': 1.28}\n",
      "{'loss': 0.598, 'grad_norm': 5.2792277336120605, 'learning_rate': 2.746478873239437e-05, 'epoch': 1.44}\n",
      "{'loss': 0.6172, 'grad_norm': 5.572335720062256, 'learning_rate': 2.4647887323943664e-05, 'epoch': 1.6}\n",
      "{'loss': 0.5967, 'grad_norm': 5.632060527801514, 'learning_rate': 2.1830985915492956e-05, 'epoch': 1.76}\n",
      "{'loss': 0.6057, 'grad_norm': 19.760629653930664, 'learning_rate': 1.9014084507042255e-05, 'epoch': 1.92}\n",
      "{'loss': 0.5958, 'grad_norm': 7.177850246429443, 'learning_rate': 1.619718309859155e-05, 'epoch': 2.08}\n",
      "{'loss': 0.5921, 'grad_norm': 13.865569114685059, 'learning_rate': 1.3380281690140845e-05, 'epoch': 2.24}\n",
      "{'loss': 0.5913, 'grad_norm': 8.777554512023926, 'learning_rate': 1.056338028169014e-05, 'epoch': 2.4}\n",
      "{'loss': 0.5674, 'grad_norm': 17.364612579345703, 'learning_rate': 7.746478873239436e-06, 'epoch': 2.56}\n",
      "{'loss': 0.5937, 'grad_norm': 8.143237113952637, 'learning_rate': 4.929577464788732e-06, 'epoch': 2.72}\n",
      "{'loss': 0.564, 'grad_norm': 8.454216957092285, 'learning_rate': 2.112676056338028e-06, 'epoch': 2.88}\n",
      "{'train_runtime': 584.1446, 'train_samples_per_second': 128.393, 'train_steps_per_second': 16.049, 'train_loss': 0.6293409993489584, 'epoch': 3.0}\n"
     ]
    },
    {
     "data": {
      "application/vnd.jupyter.widget-view+json": {
       "model_id": "127551cd49894418b577d67bf20a576e",
       "version_major": 2,
       "version_minor": 0
      },
      "text/plain": [
       "  0%|          | 0/3125 [00:00<?, ?it/s]"
      ]
     },
     "metadata": {},
     "output_type": "display_data"
    },
    {
     "data": {
      "text/plain": [
       "{'eval_loss': 0.582165539264679,\n",
       " 'eval_runtime': 74.8182,\n",
       " 'eval_samples_per_second': 334.143,\n",
       " 'eval_steps_per_second': 41.768,\n",
       " 'epoch': 3.0}"
      ]
     },
     "execution_count": 4,
     "metadata": {},
     "output_type": "execute_result"
    }
   ],
   "source": [
    "training_args = TrainingArguments(\n",
    "    output_dir='./results_mode',\n",
    "    num_train_epochs=3,\n",
    "    per_device_train_batch_size=8,\n",
    "    per_device_eval_batch_size=8,\n",
    "    warmup_steps=500,\n",
    "    weight_decay=0.001,\n",
    "    logging_dir='./logs',\n",
    ")\n",
    "\n",
    "model_mode = TransformerClassifier(mode_config)\n",
    "trainer = Trainer(\n",
    "    model=model_mode,\n",
    "    args=training_args,\n",
    "    train_dataset=tokenized_dataset['train'],\n",
    "    eval_dataset=tokenized_dataset['test'],\n",
    ")\n",
    "\n",
    "trainer.train()\n",
    "trainer.evaluate()"
   ]
  },
  {
   "cell_type": "markdown",
   "metadata": {},
   "source": [
    "## Train MH-MoE"
   ]
  },
  {
   "cell_type": "code",
   "execution_count": 4,
   "metadata": {},
   "outputs": [
    {
     "data": {
      "application/vnd.jupyter.widget-view+json": {
       "model_id": "0f93b7d80ff44c45a587830ad8d5fc16",
       "version_major": 2,
       "version_minor": 0
      },
      "text/plain": [
       "  0%|          | 0/9375 [00:00<?, ?it/s]"
      ]
     },
     "metadata": {},
     "output_type": "display_data"
    },
    {
     "name": "stdout",
     "output_type": "stream",
     "text": [
      "{'loss': 0.7514, 'grad_norm': 4.770580291748047, 'learning_rate': 5e-05, 'epoch': 0.16}\n",
      "{'loss': 0.6852, 'grad_norm': 11.751579284667969, 'learning_rate': 4.71830985915493e-05, 'epoch': 0.32}\n",
      "{'loss': 0.679, 'grad_norm': 6.661434173583984, 'learning_rate': 4.436619718309859e-05, 'epoch': 0.48}\n",
      "{'loss': 0.6546, 'grad_norm': 6.11175537109375, 'learning_rate': 4.154929577464789e-05, 'epoch': 0.64}\n",
      "{'loss': 0.659, 'grad_norm': 7.312709808349609, 'learning_rate': 3.8732394366197184e-05, 'epoch': 0.8}\n",
      "{'loss': 0.6487, 'grad_norm': 6.433994770050049, 'learning_rate': 3.5915492957746486e-05, 'epoch': 0.96}\n",
      "{'loss': 0.6401, 'grad_norm': 10.707786560058594, 'learning_rate': 3.3098591549295775e-05, 'epoch': 1.12}\n",
      "{'loss': 0.6253, 'grad_norm': 7.640051364898682, 'learning_rate': 3.028169014084507e-05, 'epoch': 1.28}\n",
      "{'loss': 0.596, 'grad_norm': 5.8375067710876465, 'learning_rate': 2.746478873239437e-05, 'epoch': 1.44}\n",
      "{'loss': 0.6098, 'grad_norm': 6.63223123550415, 'learning_rate': 2.4647887323943664e-05, 'epoch': 1.6}\n",
      "{'loss': 0.5991, 'grad_norm': 6.7873215675354, 'learning_rate': 2.1830985915492956e-05, 'epoch': 1.76}\n",
      "{'loss': 0.6072, 'grad_norm': 20.605850219726562, 'learning_rate': 1.9014084507042255e-05, 'epoch': 1.92}\n",
      "{'loss': 0.5922, 'grad_norm': 7.149765491485596, 'learning_rate': 1.619718309859155e-05, 'epoch': 2.08}\n",
      "{'loss': 0.5907, 'grad_norm': 15.490865707397461, 'learning_rate': 1.3380281690140845e-05, 'epoch': 2.24}\n",
      "{'loss': 0.5953, 'grad_norm': 7.423646450042725, 'learning_rate': 1.056338028169014e-05, 'epoch': 2.4}\n",
      "{'loss': 0.5727, 'grad_norm': 20.989389419555664, 'learning_rate': 7.746478873239436e-06, 'epoch': 2.56}\n",
      "{'loss': 0.5915, 'grad_norm': 7.592937469482422, 'learning_rate': 4.929577464788732e-06, 'epoch': 2.72}\n",
      "{'loss': 0.5608, 'grad_norm': 8.172760963439941, 'learning_rate': 2.112676056338028e-06, 'epoch': 2.88}\n",
      "{'train_runtime': 1278.8108, 'train_samples_per_second': 58.648, 'train_steps_per_second': 7.331, 'train_loss': 0.6236541178385416, 'epoch': 3.0}\n"
     ]
    },
    {
     "data": {
      "application/vnd.jupyter.widget-view+json": {
       "model_id": "a44935373aa44b6cbc8885d2041a91de",
       "version_major": 2,
       "version_minor": 0
      },
      "text/plain": [
       "  0%|          | 0/3125 [00:00<?, ?it/s]"
      ]
     },
     "metadata": {},
     "output_type": "display_data"
    },
    {
     "data": {
      "text/plain": [
       "{'eval_loss': 0.5796149373054504,\n",
       " 'eval_runtime': 156.5182,\n",
       " 'eval_samples_per_second': 159.726,\n",
       " 'eval_steps_per_second': 19.966,\n",
       " 'epoch': 3.0}"
      ]
     },
     "execution_count": 4,
     "metadata": {},
     "output_type": "execute_result"
    }
   ],
   "source": [
    "training_args = TrainingArguments(\n",
    "    output_dir='./results_mh-moe',\n",
    "    num_train_epochs=3,\n",
    "    per_device_train_batch_size=8,\n",
    "    per_device_eval_batch_size=8,\n",
    "    warmup_steps=500,\n",
    "    weight_decay=0.001,\n",
    "    logging_dir='./logs',\n",
    ")\n",
    "\n",
    "model_mh_moe = TransformerClassifier(mh_moe_config)\n",
    "trainer = Trainer(\n",
    "    model=model_mh_moe,\n",
    "    args=training_args,\n",
    "    train_dataset=tokenized_dataset['train'],\n",
    "    eval_dataset=tokenized_dataset['test'],\n",
    ")\n",
    "\n",
    "trainer.train()\n",
    "trainer.evaluate()"
   ]
  },
  {
   "cell_type": "markdown",
   "metadata": {},
   "source": [
    "## Train MH-MoDE"
   ]
  },
  {
   "cell_type": "code",
   "execution_count": 4,
   "metadata": {},
   "outputs": [
    {
     "data": {
      "application/vnd.jupyter.widget-view+json": {
       "model_id": "e22d03a4d9ee438eb22a01fb45450824",
       "version_major": 2,
       "version_minor": 0
      },
      "text/plain": [
       "  0%|          | 0/9375 [00:00<?, ?it/s]"
      ]
     },
     "metadata": {},
     "output_type": "display_data"
    },
    {
     "name": "stdout",
     "output_type": "stream",
     "text": [
      "{'loss': 0.7399, 'grad_norm': 4.209444522857666, 'learning_rate': 5e-05, 'epoch': 0.16}\n",
      "{'loss': 0.6829, 'grad_norm': 10.695562362670898, 'learning_rate': 4.71830985915493e-05, 'epoch': 0.32}\n",
      "{'loss': 0.6797, 'grad_norm': 5.148598670959473, 'learning_rate': 4.436619718309859e-05, 'epoch': 0.48}\n",
      "{'loss': 0.6552, 'grad_norm': 5.054625511169434, 'learning_rate': 4.154929577464789e-05, 'epoch': 0.64}\n",
      "{'loss': 0.6515, 'grad_norm': 6.36778450012207, 'learning_rate': 3.8732394366197184e-05, 'epoch': 0.8}\n",
      "{'loss': 0.6522, 'grad_norm': 6.712286472320557, 'learning_rate': 3.5915492957746486e-05, 'epoch': 0.96}\n",
      "{'loss': 0.641, 'grad_norm': 8.144624710083008, 'learning_rate': 3.3098591549295775e-05, 'epoch': 1.12}\n",
      "{'loss': 0.6236, 'grad_norm': 7.289916038513184, 'learning_rate': 3.028169014084507e-05, 'epoch': 1.28}\n",
      "{'loss': 0.5931, 'grad_norm': 4.87639856338501, 'learning_rate': 2.746478873239437e-05, 'epoch': 1.44}\n",
      "{'loss': 0.6118, 'grad_norm': 3.6915459632873535, 'learning_rate': 2.4647887323943664e-05, 'epoch': 1.6}\n",
      "{'loss': 0.5934, 'grad_norm': 5.115009307861328, 'learning_rate': 2.1830985915492956e-05, 'epoch': 1.76}\n",
      "{'loss': 0.6051, 'grad_norm': 15.62766170501709, 'learning_rate': 1.9014084507042255e-05, 'epoch': 1.92}\n",
      "{'loss': 0.5916, 'grad_norm': 6.401103496551514, 'learning_rate': 1.619718309859155e-05, 'epoch': 2.08}\n",
      "{'loss': 0.589, 'grad_norm': 8.505888938903809, 'learning_rate': 1.3380281690140845e-05, 'epoch': 2.24}\n",
      "{'loss': 0.5924, 'grad_norm': 6.4294819831848145, 'learning_rate': 1.056338028169014e-05, 'epoch': 2.4}\n",
      "{'loss': 0.5769, 'grad_norm': 16.24318504333496, 'learning_rate': 7.746478873239436e-06, 'epoch': 2.56}\n",
      "{'loss': 0.5902, 'grad_norm': 7.147179126739502, 'learning_rate': 4.929577464788732e-06, 'epoch': 2.72}\n",
      "{'loss': 0.5579, 'grad_norm': 9.45589828491211, 'learning_rate': 2.112676056338028e-06, 'epoch': 2.88}\n",
      "{'train_runtime': 1160.7024, 'train_samples_per_second': 64.616, 'train_steps_per_second': 8.077, 'train_loss': 0.6219293310546875, 'epoch': 3.0}\n"
     ]
    },
    {
     "data": {
      "application/vnd.jupyter.widget-view+json": {
       "model_id": "b7bbe3962035443d9d3d455259af805b",
       "version_major": 2,
       "version_minor": 0
      },
      "text/plain": [
       "  0%|          | 0/3125 [00:00<?, ?it/s]"
      ]
     },
     "metadata": {},
     "output_type": "display_data"
    },
    {
     "data": {
      "text/plain": [
       "{'eval_loss': 0.5823717713356018,\n",
       " 'eval_runtime': 149.6315,\n",
       " 'eval_samples_per_second': 167.077,\n",
       " 'eval_steps_per_second': 20.885,\n",
       " 'epoch': 3.0}"
      ]
     },
     "execution_count": 4,
     "metadata": {},
     "output_type": "execute_result"
    }
   ],
   "source": [
    "training_args = TrainingArguments(\n",
    "    output_dir='./results_mh-mode',\n",
    "    num_train_epochs=3,\n",
    "    per_device_train_batch_size=8,\n",
    "    per_device_eval_batch_size=8,\n",
    "    warmup_steps=500,\n",
    "    weight_decay=0.001,\n",
    "    logging_dir='./logs',\n",
    ")\n",
    "\n",
    "model_mh_mode = TransformerClassifier(mh_mode_config)\n",
    "trainer = Trainer(\n",
    "    model=model_mh_mode,\n",
    "    args=training_args,\n",
    "    train_dataset=tokenized_dataset['train'],\n",
    "    eval_dataset=tokenized_dataset['test'],\n",
    ")\n",
    "\n",
    "trainer.train()\n",
    "trainer.evaluate()"
   ]
  },
  {
   "cell_type": "code",
   "execution_count": null,
   "metadata": {},
   "outputs": [],
   "source": []
  }
 ],
 "metadata": {
  "kernelspec": {
   "display_name": "Python 3",
   "language": "python",
   "name": "python3"
  },
  "language_info": {
   "codemirror_mode": {
    "name": "ipython",
    "version": 3
   },
   "file_extension": ".py",
   "mimetype": "text/x-python",
   "name": "python",
   "nbconvert_exporter": "python",
   "pygments_lexer": "ipython3",
   "version": "3.10.9"
  }
 },
 "nbformat": 4,
 "nbformat_minor": 2
}
